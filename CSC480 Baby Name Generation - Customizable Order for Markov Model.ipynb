{
 "cells": [
  {
   "cell_type": "markdown",
   "metadata": {},
   "source": [
    "## Baby Name Generaton\n",
    "<p>A n-order Markov model to generate novel names that follow common letter sequences.</p>"
   ]
  },
  {
   "cell_type": "code",
   "execution_count": 5,
   "metadata": {
    "collapsed": true
   },
   "outputs": [],
   "source": [
    "import numpy as np\n",
    "np.random.seed(0)"
   ]
  },
  {
   "cell_type": "markdown",
   "metadata": {},
   "source": [
    "### Read 1k boys and girls names, respectively. Build transition probabilities using dictionary"
   ]
  },
  {
   "cell_type": "code",
   "execution_count": 6,
   "metadata": {
    "collapsed": false
   },
   "outputs": [],
   "source": [
    "boys = np.loadtxt('namesBoys.txt',dtype='|S10')\n",
    "girls = np.loadtxt('namesGirls.txt',dtype='|S10')"
   ]
  },
  {
   "cell_type": "code",
   "execution_count": 97,
   "metadata": {
    "collapsed": false
   },
   "outputs": [],
   "source": [
    "# build nested dictionaries that record number of letter occurences for previous n letters\n",
    "# E.G.{previous three letters: {letter1:num occurance,letter2:num occurance}}\n",
    "# E.G. {'str':{'a':3,'c':5,...,'z':1,'_':10}}\n",
    "def get_occurrence(names_list, order):\n",
    "    dic = {} \n",
    "    # loop through each name\n",
    "    for name in names_list:\n",
    "        # loop through each letter\n",
    "        for i in range(len(name)):\n",
    "            # avoid index out of range\n",
    "            if i >= order and i<= len(name)-1: \n",
    "                if name[i-order:i] not in dic:\n",
    "                    # initiate dictionary for the <previous three letters>\n",
    "                    dic[name[i-order:i]]={name[i]:1}\n",
    "                else:\n",
    "                    if name[i] not in dic[name[i-order:i]]:\n",
    "                        dic[name[i-order:i]][name[i]] = 1\n",
    "                    else:\n",
    "                        # increment occurence of trailing letter by 1\n",
    "                        dic[name[i-order:i]][name[i]] += 1 \n",
    "    return dic\n",
    "\n",
    "# build dictionary that contains trailing letter and corresponding transition probability for previous n letters\n",
    "# E.G. {previous three letters: [[letter1,letter2,letter3],[0.25, 0.55, 0.3]]}\n",
    "# E.G. {'str':[['a','c',...,'z','_'],[0.12,0.23,0.03,..]]}\n",
    "def get_transition_prob(occurence_dic):\n",
    "    transition_dic = {}\n",
    "    # loop through each <previous three letters>\n",
    "    for first_n, occurences in occurence_dic.iteritems():\n",
    "        # initiate an empty list\n",
    "        transition_dic[first_n] = []\n",
    "        # get total number of occurences for all letters after these previous n letters\n",
    "        total_occurences = sum(occurences.values())\n",
    "        # get transition probabilities for all letters after these previous n letters\n",
    "        transition_prob = map(lambda x:float(x)/total_occurences, occurences.values())\n",
    "        transition_dic[first_n].append(occurences.keys())\n",
    "        transition_dic[first_n].append(transition_prob)\n",
    "    \n",
    "    return transition_dic\n",
    "\n",
    "# get next letter based on previous n letters and transition probabilities\n",
    "def get_next_letter(first_n, trans_dic):\n",
    "    return np.random.choice(trans_dic[first_n][0], 1, p=trans_dic[first_n][1])[0]\n",
    "\n",
    "# get names given order of Markov model\n",
    "def get_n_order_names(name_list, order, num_names, min_length, max_length):\n",
    "    if order < 1:\n",
    "        return 'Order should be larger than 1'\n",
    "    elif order >= min_length:\n",
    "        return 'Order should be smaller than min_length'\n",
    "    elif min_length > max_length:\n",
    "        return 'min_length cannot be larger than max_length'\n",
    "    else:\n",
    "        #name_list = filter(lambda x: len(x)>= order+1, name_list)\n",
    "        # add \"_\" before and after the names, will be used to indicate the start and end of the names\n",
    "        # if order is n, then there should be '_' * n before and after the name\n",
    "        name_set = set(map(lambda x:'_'*order + x.lower() + '_'*order, name_list))\n",
    "        \n",
    "        # get num of occurrences of each single letter after the previous n letters\n",
    "        occurrence_dic = get_occurrence(name_set, order)\n",
    "    \n",
    "        # get transition probability for each single lette afte the previous n letters\n",
    "        trans_dic = get_transition_prob(occurrence_dic)\n",
    "        \n",
    "        # start generating names\n",
    "        name_list = []\n",
    "        # keep generating names until we had enough\n",
    "        while len(name_list) < num_names:\n",
    "            new_name = '_' * order\n",
    "\n",
    "            # start from the first letter\n",
    "            first_letter = get_next_letter('_' * order, trans_dic)\n",
    "            new_name += first_letter\n",
    "\n",
    "            # keep generating letters until reaching the end\n",
    "            while new_name[-order:] != '_' * order:\n",
    "                next_letter = get_next_letter(new_name[-order:], trans_dic)\n",
    "                new_name += next_letter\n",
    "\n",
    "            # only add new names that fulfill the requirements\n",
    "            if new_name not in name_set and new_name not in name_list and \\\n",
    "            len(new_name) >= min_length+order*2 and len(new_name) <= max_length+order*2:\n",
    "                name_list.append(new_name)\n",
    "\n",
    "        # remove \"___\" in the names\n",
    "        name_list = map(lambda x:x.replace('_','').title(),name_list)\n",
    "    \n",
    "    return name_list"
   ]
  },
  {
   "cell_type": "code",
   "execution_count": 148,
   "metadata": {
    "collapsed": false
   },
   "outputs": [
    {
     "name": "stdout",
     "output_type": "stream",
     "text": [
      "['Jerman', 'Gordan', 'Deacob', 'Nigelo', 'Tayles']\n"
     ]
    }
   ],
   "source": [
    "order = 3\n",
    "num_names = 5\n",
    "min_length = 6 # at least 1, cannot be larger than max_length\n",
    "max_length = 6 # at least 2\n",
    "name_type = 'boy'\n",
    "\n",
    "if name_type == 'boy':\n",
    "    new_names = get_n_order_names(boys, order, num_names, min_length, max_length)\n",
    "else:\n",
    "    new_names = get_n_order_names(girls, order, num_names, min_length, max_length)\n",
    "\n",
    "print new_names"
   ]
  },
  {
   "cell_type": "markdown",
   "metadata": {},
   "source": [
    "### Serialize the transition probabilities to binary files, for future use"
   ]
  },
  {
   "cell_type": "code",
   "execution_count": 149,
   "metadata": {
    "collapsed": true
   },
   "outputs": [],
   "source": [
    "import pickle"
   ]
  },
  {
   "cell_type": "markdown",
   "metadata": {},
   "source": [
    "#### write"
   ]
  },
  {
   "cell_type": "code",
   "execution_count": 571,
   "metadata": {
    "collapsed": true
   },
   "outputs": [],
   "source": [
    "with open('trans_boy.pickle', 'wb') as f:\n",
    "    # serialize the dictionary using the highest protocol available, \"wb\" refers to \"write binary\"\n",
    "    pickle.dump(trans_boy, f, pickle.HIGHEST_PROTOCOL)\n",
    "    \n",
    "with open('trans_girl.pickle', 'wb') as f:\n",
    "    pickle.dump(trans_girl, f, pickle.HIGHEST_PROTOCOL)\n",
    "    \n",
    "with open('set_boys.pickle', 'wb') as f:\n",
    "    pickle.dump(set_boys, f, pickle.HIGHEST_PROTOCOL)\n",
    "    \n",
    "with open('set_girls.pickle', 'wb') as f:\n",
    "    pickle.dump(set_girls, f, pickle.HIGHEST_PROTOCOL)"
   ]
  },
  {
   "cell_type": "markdown",
   "metadata": {},
   "source": [
    "#### read"
   ]
  },
  {
   "cell_type": "code",
   "execution_count": 572,
   "metadata": {
    "collapsed": true
   },
   "outputs": [],
   "source": [
    "with open('trans_boy.pickle', 'rb') as f:\n",
    "    # Read pickle file back, \"rb\" refers to \"read binary\"\n",
    "    trans_boy = pickle.load(f)\n",
    "    \n",
    "with open('trans_girl.pickle', 'rb') as f:\n",
    "    trans_girl = pickle.load(f)\n",
    "    \n",
    "with open('set_boys.pickle', 'rb') as f:\n",
    "    set_boys = pickle.load(f)\n",
    "    \n",
    "with open('set_girls.pickle', 'rb') as f:\n",
    "    set_girls = pickle.load(f)"
   ]
  }
 ],
 "metadata": {
  "kernelspec": {
   "display_name": "Python 2",
   "language": "python",
   "name": "python2"
  },
  "language_info": {
   "codemirror_mode": {
    "name": "ipython",
    "version": 2
   },
   "file_extension": ".py",
   "mimetype": "text/x-python",
   "name": "python",
   "nbconvert_exporter": "python",
   "pygments_lexer": "ipython2",
   "version": "2.7.5"
  }
 },
 "nbformat": 4,
 "nbformat_minor": 0
}
